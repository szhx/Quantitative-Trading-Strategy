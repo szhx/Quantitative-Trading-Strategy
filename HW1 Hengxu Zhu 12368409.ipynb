{
 "cells": [
  {
   "cell_type": "markdown",
   "id": "dc96f755-eb19-4168-a60a-82be368dc3bf",
   "metadata": {
    "tags": []
   },
   "source": [
    "### Homework 1: Futures Spread Dynamics - Hengxu Zhu 12368409"
   ]
  },
  {
   "cell_type": "markdown",
   "id": "c8f4e8d7-df80-4248-a2e0-5bb6ddb00162",
   "metadata": {},
   "source": [
    "## Import Packages"
   ]
  },
  {
   "cell_type": "code",
   "execution_count": 1,
   "id": "5f5e0e9c-0ecb-45f6-a5b2-6ba32eb94be9",
   "metadata": {},
   "outputs": [],
   "source": [
    "%matplotlib inline \n",
    "import matplotlib.pyplot as plt\n",
    "import pandas as pd\n",
    "import numpy as np\n",
    "import scipy as sp\n",
    "import quandl\n",
    "import functools\n",
    "import seaborn as sns\n",
    "import plotnine as p9\n",
    "import datetime\n",
    "from statsmodels.tsa.ar_model import AutoReg \n",
    "import warnings\n",
    "warnings.filterwarnings('ignore')"
   ]
  },
  {
   "cell_type": "markdown",
   "id": "b3dd041a-ec9f-4d4f-8aad-cd69934ee84b",
   "metadata": {
    "tags": []
   },
   "source": [
    "## Helper Functions"
   ]
  },
  {
   "cell_type": "code",
   "execution_count": 2,
   "id": "0f8058bf-ac09-4114-ac6c-370f3f816bce",
   "metadata": {
    "tags": []
   },
   "outputs": [],
   "source": [
    "def summary_stat(data): \n",
    "    \n",
    "    summary_stats = data.mean().to_frame('Mean').round(2)\n",
    "    summary_stats['Volatility'] = data.std().round(2) \n",
    "    summary_stats['Sharpe Ratio'] = (summary_stats['Mean'] / summary_stats['Volatility']).round(2) \n",
    "    \n",
    "    rolling_max = data.cummax()\n",
    "    drawdown = data - rolling_max\n",
    "    summary_stats['Max Drawdown'] = drawdown.min()\n",
    "    \n",
    "    summary_stats['Min'] = data.min().round(2)\n",
    "    summary_stats['25% Quantile'] = data.quantile(.25, axis = 0).round(2)\n",
    "    summary_stats['Median'] = data.quantile(.5, axis = 0).round(2)\n",
    "    summary_stats['75% Quantile'] = data.quantile(.75, axis = 0).round(2)\n",
    "    summary_stats['Max'] = data.max().round(2) \n",
    "\n",
    "    summary_stats['Skewness'] = data.skew().round(2)\n",
    "    summary_stats['Kurtosis'] = data.kurtosis().round(2)\n",
    "    \n",
    "    return summary_stats"
   ]
  },
  {
   "cell_type": "markdown",
   "id": "601fc5da-288f-4fa6-a914-35bce7392183",
   "metadata": {},
   "source": [
    "The function above calculates all the statistics that we use to analyze the future spreads. They are Mean, Volatility(Standard Deviation), Sharpe Ratio, Minimum & Maximum, 25%, 50% and 75% Tails, Max Drawdown, Skewness and Kurtosis. "
   ]
  },
  {
   "cell_type": "code",
   "execution_count": 3,
   "id": "97d74d5d-d667-4800-8dc0-822483d3471c",
   "metadata": {},
   "outputs": [],
   "source": [
    "def rolling_stat(data, n): \n",
    "    \n",
    "    data_rolling = data.rolling(n).mean()\n",
    "    data = data - data_rolling\n",
    "    data = data.dropna() \n",
    "    \n",
    "    return summary_stat(data)"
   ]
  },
  {
   "cell_type": "markdown",
   "id": "fef14aaf-04bd-4a54-9f17-9f9badb395e7",
   "metadata": {},
   "source": [
    "The function above calculates the difference between the rolling mean of window size N and the actual data. Then, it applies the summary_stat function on this difference. "
   ]
  },
  {
   "cell_type": "markdown",
   "id": "9927be4c-2740-4970-aeae-69081c725da5",
   "metadata": {
    "tags": []
   },
   "source": [
    "## Load Data"
   ]
  },
  {
   "cell_type": "code",
   "execution_count": 4,
   "id": "a4481b7b-26e6-4e97-b4a9-30a2b3525cdc",
   "metadata": {},
   "outputs": [],
   "source": [
    "def fetch_quandl(my_data_items, trim_start=None, trim_end=None):\n",
    "    qdata = quandl.get(list(my_data_items), returns=\"pandas\", \n",
    "                      trim_start=trim_start, trim_end=trim_end,\n",
    "                      api_key='_MNv7zC_784tGzbfxhxP')\n",
    "    return qdata "
   ]
  },
  {
   "cell_type": "code",
   "execution_count": 5,
   "id": "84e5f80a-fa74-4981-8ba2-cfe0be611808",
   "metadata": {},
   "outputs": [],
   "source": [
    "def clean_quandl_columns(dataframe):\n",
    "    replacement_columns = {}\n",
    "    for c in dataframe.columns:\n",
    "        series_name, variable = c.split(' - ')\n",
    "        source_name, asset = series_name.split('/')\n",
    "        replacement_columns[c] = variable\n",
    "    renamed_data = dataframe.rename(columns=replacement_columns)\n",
    "    return renamed_data"
   ]
  },
  {
   "cell_type": "markdown",
   "id": "9acaae07-f1dc-44f7-a92d-1df8d834040e",
   "metadata": {},
   "source": [
    "Two functions above were used by professor to fetch clean data from Quandl. "
   ]
  },
  {
   "cell_type": "markdown",
   "id": "a8d10909-5c62-4c21-a469-1d3b72ec17bf",
   "metadata": {},
   "source": [
    "#### From Ed Discussion, I switched from data group 9 to 8 as the professor mentioned data group 9 looks ugly."
   ]
  },
  {
   "cell_type": "code",
   "execution_count": 6,
   "id": "3d3d3368-4891-47f2-ace5-4697fd7603e5",
   "metadata": {},
   "outputs": [],
   "source": [
    "headers = ['ICE_TFM_TFM_', 'NYM_NG_NG_', 'NYM_RB_RB_', 'ICE_G_G_'] \n",
    "start = \"2020-12-03\" \n",
    "end = \"2022-08-31\"  \n",
    "years = ['2021', '2022'] \n",
    "months = ['H', 'M', 'U', 'Z']\n",
    "\n",
    "def load_data(header, start, end): \n",
    "    df = pd.DataFrame()\n",
    "    for i in years: \n",
    "        for j in months: \n",
    "            x = clean_quandl_columns(fetch_quandl(('OWF/' + header + j + i + '_IVM',),\n",
    "                                                           trim_start=start, \n",
    "                                                           trim_end=end)) \n",
    "            df1 = x[['Future', 'DtT']]\n",
    "            if len(df) == 0: \n",
    "                df = df1 \n",
    "            else: \n",
    "                last = df.index[-1] + datetime.timedelta(days=1)\n",
    "                df1 = df1.loc[last:]\n",
    "                df1['Future'] = np.where(df1['DtT'] > 30.0, df1['Future'], np.nan) \n",
    "                df1['DtT'] = np.where(df1['DtT'] > 30.0, df1['DtT'], np.nan)\n",
    "                df1 = df1.dropna()\n",
    "                df = pd.concat([df, df1]) \n",
    "    return df"
   ]
  },
  {
   "cell_type": "markdown",
   "id": "2de843f9-146a-4c85-a4fe-d66846da829a",
   "metadata": {},
   "source": [
    "The function above performed the entire data loading processes. \n",
    "\n",
    "Firstly, by looping the expiration period from H2021 to Z2022, we download the data available from 2020-12-03 to 2022-08-31. We don't need to include any expiration in 2020 since the data after 2020-12-03 can only expire in 2021 to have a DtT > 30. \n",
    "\n",
    "Secondly, since the data downloaded from each loop will have overlap, we need to exclude all the overlapping data and also make sure that all data points have a DtT > 30. \n",
    "\n",
    "Lastly, after cleaning the data for each loop, we can just concat the new data to the data from last loop to form the entire data set. "
   ]
  },
  {
   "cell_type": "code",
   "execution_count": 7,
   "id": "f633ebca-e7a3-4750-b90f-51e9b4815e4f",
   "metadata": {},
   "outputs": [],
   "source": [
    "const1 = 13.7261\n",
    "ice_tfm = load_data(headers[0], start, end).rename(columns={'Future': 'Future1', 'DtT': 'DtT1'})\n",
    "nym_ng = load_data(headers[1], start, end).rename(columns={'Future': 'Future2', 'DtT': 'DtT2'})\n",
    "ice_tfm_vs_nym_ng = ice_tfm.join(nym_ng) \n",
    "ice_tfm_vs_nym_ng['ICE vs NYM'] = ice_tfm_vs_nym_ng['Future2'] * const1 - ice_tfm_vs_nym_ng['Future1'] "
   ]
  },
  {
   "cell_type": "code",
   "execution_count": 8,
   "id": "72f9e674-c0e5-410a-bb32-9fbe0f1c05db",
   "metadata": {},
   "outputs": [],
   "source": [
    "const2 = 0.0033\n",
    "nym_rb = load_data(headers[2], start, end).rename(columns={'Future': 'Future1', 'DtT': 'DtT1'})\n",
    "ice_g = load_data(headers[3], start, end).rename(columns={'Future': 'Future2', 'DtT': 'DtT2'})\n",
    "nym_rb_vs_ice_g = nym_rb.join(ice_g) \n",
    "nym_rb_vs_ice_g['NYM vs ICE'] = nym_rb_vs_ice_g['Future2'] * const2 - nym_rb_vs_ice_g['Future1'] "
   ]
  },
  {
   "cell_type": "markdown",
   "id": "31587b70-35a8-4762-ae72-496cc5f5b78e",
   "metadata": {},
   "source": [
    "Calculate the future spreads according to the homework instruction. "
   ]
  },
  {
   "cell_type": "code",
   "execution_count": 9,
   "id": "26676169-1114-468f-9a96-509629752215",
   "metadata": {},
   "outputs": [
    {
     "data": {
      "text/html": [
       "<div>\n",
       "<style scoped>\n",
       "    .dataframe tbody tr th:only-of-type {\n",
       "        vertical-align: middle;\n",
       "    }\n",
       "\n",
       "    .dataframe tbody tr th {\n",
       "        vertical-align: top;\n",
       "    }\n",
       "\n",
       "    .dataframe thead th {\n",
       "        text-align: right;\n",
       "    }\n",
       "</style>\n",
       "<table border=\"1\" class=\"dataframe\">\n",
       "  <thead>\n",
       "    <tr style=\"text-align: right;\">\n",
       "      <th></th>\n",
       "      <th>Future1</th>\n",
       "      <th>DtT1</th>\n",
       "      <th>Future2</th>\n",
       "      <th>DtT2</th>\n",
       "      <th>ICE vs NYM</th>\n",
       "    </tr>\n",
       "    <tr>\n",
       "      <th>Date</th>\n",
       "      <th></th>\n",
       "      <th></th>\n",
       "      <th></th>\n",
       "      <th></th>\n",
       "      <th></th>\n",
       "    </tr>\n",
       "  </thead>\n",
       "  <tbody>\n",
       "    <tr>\n",
       "      <th>2020-12-03</th>\n",
       "      <td>13.877</td>\n",
       "      <td>84.0</td>\n",
       "      <td>2.476</td>\n",
       "      <td>83.0</td>\n",
       "      <td>20.108824</td>\n",
       "    </tr>\n",
       "    <tr>\n",
       "      <th>2020-12-04</th>\n",
       "      <td>14.398</td>\n",
       "      <td>83.0</td>\n",
       "      <td>2.551</td>\n",
       "      <td>82.0</td>\n",
       "      <td>20.617281</td>\n",
       "    </tr>\n",
       "    <tr>\n",
       "      <th>2020-12-07</th>\n",
       "      <td>14.137</td>\n",
       "      <td>80.0</td>\n",
       "      <td>2.432</td>\n",
       "      <td>79.0</td>\n",
       "      <td>19.244875</td>\n",
       "    </tr>\n",
       "    <tr>\n",
       "      <th>2020-12-08</th>\n",
       "      <td>14.211</td>\n",
       "      <td>79.0</td>\n",
       "      <td>2.419</td>\n",
       "      <td>78.0</td>\n",
       "      <td>18.992436</td>\n",
       "    </tr>\n",
       "    <tr>\n",
       "      <th>2020-12-09</th>\n",
       "      <td>14.451</td>\n",
       "      <td>78.0</td>\n",
       "      <td>2.452</td>\n",
       "      <td>77.0</td>\n",
       "      <td>19.205397</td>\n",
       "    </tr>\n",
       "  </tbody>\n",
       "</table>\n",
       "</div>"
      ],
      "text/plain": [
       "            Future1  DtT1  Future2  DtT2  ICE vs NYM\n",
       "Date                                                \n",
       "2020-12-03   13.877  84.0    2.476  83.0   20.108824\n",
       "2020-12-04   14.398  83.0    2.551  82.0   20.617281\n",
       "2020-12-07   14.137  80.0    2.432  79.0   19.244875\n",
       "2020-12-08   14.211  79.0    2.419  78.0   18.992436\n",
       "2020-12-09   14.451  78.0    2.452  77.0   19.205397"
      ]
     },
     "execution_count": 9,
     "metadata": {},
     "output_type": "execute_result"
    }
   ],
   "source": [
    "ice_tfm_vs_nym_ng = ice_tfm_vs_nym_ng.dropna() \n",
    "ice_tfm_vs_nym_ng.head()"
   ]
  },
  {
   "cell_type": "code",
   "execution_count": 10,
   "id": "23a56acb-768d-41ee-8b08-1dc0ed7bf9bd",
   "metadata": {},
   "outputs": [
    {
     "data": {
      "text/html": [
       "<div>\n",
       "<style scoped>\n",
       "    .dataframe tbody tr th:only-of-type {\n",
       "        vertical-align: middle;\n",
       "    }\n",
       "\n",
       "    .dataframe tbody tr th {\n",
       "        vertical-align: top;\n",
       "    }\n",
       "\n",
       "    .dataframe thead th {\n",
       "        text-align: right;\n",
       "    }\n",
       "</style>\n",
       "<table border=\"1\" class=\"dataframe\">\n",
       "  <thead>\n",
       "    <tr style=\"text-align: right;\">\n",
       "      <th></th>\n",
       "      <th>Future1</th>\n",
       "      <th>DtT1</th>\n",
       "      <th>Future2</th>\n",
       "      <th>DtT2</th>\n",
       "      <th>NYM vs ICE</th>\n",
       "    </tr>\n",
       "    <tr>\n",
       "      <th>Date</th>\n",
       "      <th></th>\n",
       "      <th></th>\n",
       "      <th></th>\n",
       "      <th></th>\n",
       "      <th></th>\n",
       "    </tr>\n",
       "  </thead>\n",
       "  <tbody>\n",
       "    <tr>\n",
       "      <th>2020-12-03</th>\n",
       "      <td>1.2867</td>\n",
       "      <td>85.0</td>\n",
       "      <td>404.75</td>\n",
       "      <td>98.0</td>\n",
       "      <td>0.048975</td>\n",
       "    </tr>\n",
       "    <tr>\n",
       "      <th>2020-12-04</th>\n",
       "      <td>1.2951</td>\n",
       "      <td>84.0</td>\n",
       "      <td>406.00</td>\n",
       "      <td>97.0</td>\n",
       "      <td>0.044700</td>\n",
       "    </tr>\n",
       "    <tr>\n",
       "      <th>2020-12-07</th>\n",
       "      <td>1.2850</td>\n",
       "      <td>81.0</td>\n",
       "      <td>410.00</td>\n",
       "      <td>94.0</td>\n",
       "      <td>0.068000</td>\n",
       "    </tr>\n",
       "    <tr>\n",
       "      <th>2020-12-08</th>\n",
       "      <td>1.2851</td>\n",
       "      <td>80.0</td>\n",
       "      <td>409.75</td>\n",
       "      <td>93.0</td>\n",
       "      <td>0.067075</td>\n",
       "    </tr>\n",
       "    <tr>\n",
       "      <th>2020-12-09</th>\n",
       "      <td>1.2983</td>\n",
       "      <td>79.0</td>\n",
       "      <td>406.75</td>\n",
       "      <td>92.0</td>\n",
       "      <td>0.043975</td>\n",
       "    </tr>\n",
       "  </tbody>\n",
       "</table>\n",
       "</div>"
      ],
      "text/plain": [
       "            Future1  DtT1  Future2  DtT2  NYM vs ICE\n",
       "Date                                                \n",
       "2020-12-03   1.2867  85.0   404.75  98.0    0.048975\n",
       "2020-12-04   1.2951  84.0   406.00  97.0    0.044700\n",
       "2020-12-07   1.2850  81.0   410.00  94.0    0.068000\n",
       "2020-12-08   1.2851  80.0   409.75  93.0    0.067075\n",
       "2020-12-09   1.2983  79.0   406.75  92.0    0.043975"
      ]
     },
     "execution_count": 10,
     "metadata": {},
     "output_type": "execute_result"
    }
   ],
   "source": [
    "nym_rb_vs_ice_g = nym_rb_vs_ice_g.dropna() \n",
    "nym_rb_vs_ice_g.head()"
   ]
  },
  {
   "cell_type": "markdown",
   "id": "b0281ac3-814a-46a4-8d32-ef42917ad383",
   "metadata": {},
   "source": [
    "#### Data Reconciliation"
   ]
  },
  {
   "cell_type": "code",
   "execution_count": 11,
   "id": "2c7f0402-b6bb-42c8-a20c-536ed374e13c",
   "metadata": {},
   "outputs": [
    {
     "name": "stdout",
     "output_type": "stream",
     "text": [
      "True\n"
     ]
    }
   ],
   "source": [
    "try: \n",
    "    assert(ice_tfm_vs_nym_ng.loc['2021-10-25', 'ICE vs NYM'] - (-5.751738) < 1e-6) \n",
    "    assert(ice_tfm_vs_nym_ng.loc['2021-10-28', 'ICE vs NYM'] - (-2.985990) < 1e-6) \n",
    "    assert(ice_tfm_vs_nym_ng.loc['2021-11-01', 'ICE vs NYM'] - (9.013603) < 1e-6) \n",
    "    print(True)\n",
    "except: \n",
    "    print(False)"
   ]
  },
  {
   "cell_type": "code",
   "execution_count": 12,
   "id": "5874047a-413c-4565-a227-8fbca562766d",
   "metadata": {},
   "outputs": [
    {
     "name": "stdout",
     "output_type": "stream",
     "text": [
      "True\n"
     ]
    }
   ],
   "source": [
    "try: \n",
    "    assert(nym_rb_vs_ice_g.loc['2021-10-29', 'NYM vs ICE'] - (-0.019275) < 1e-6) \n",
    "    assert(nym_rb_vs_ice_g.loc['2021-11-01', 'NYM vs ICE'] - (0.048500) < 1e-6) \n",
    "    assert(nym_rb_vs_ice_g.loc['2021-11-10', 'NYM vs ICE'] - (0.063650) < 1e-6) \n",
    "    print(True)\n",
    "except: \n",
    "    print(False)"
   ]
  },
  {
   "cell_type": "markdown",
   "id": "e73a97a3-5772-44cf-be18-e80b87fbe706",
   "metadata": {},
   "source": [
    "Reconcile the data downloaded from Quandl to the homework instruction. "
   ]
  },
  {
   "cell_type": "markdown",
   "id": "cc45d3b6-07b6-49f1-ac3c-0c4a72299878",
   "metadata": {
    "tags": []
   },
   "source": [
    "## Analysis"
   ]
  },
  {
   "cell_type": "markdown",
   "id": "b559b94d-5548-465e-aa09-fea408d12947",
   "metadata": {},
   "source": [
    "The Analysis consists of 3 parts: \n",
    "\n",
    "1. Analyze the tails, rolling stats and autocorrelation of Data Group 0. \n",
    "\n",
    "2. Analyze the tails, rolling stats and autocorrelation of Data Group 8. \n",
    "\n",
    "3. Analyze the correlation between two Data Groups. "
   ]
  },
  {
   "cell_type": "markdown",
   "id": "912073d4-3072-407f-9eaf-3f21c9b10e3c",
   "metadata": {},
   "source": [
    "#### Data Group 0 (ICE_TFM_TFM versus NYM_NG_NG ×13.7261)"
   ]
  },
  {
   "cell_type": "code",
   "execution_count": 13,
   "id": "aec41dde-6826-406d-ad76-9dbf3559d449",
   "metadata": {},
   "outputs": [
    {
     "data": {
      "text/plain": [
       "Text(0.5, 1.0, 'Data Group 0 (ICE_TFM_TFM versus NYM_NG_NG ×13.7261)')"
      ]
     },
     "execution_count": 13,
     "metadata": {},
     "output_type": "execute_result"
    },
    {
     "data": {
      "image/png": "[encoded data removed]",
      "text/plain": [
       "<Figure size 640x480 with 1 Axes>"
      ]
     },
     "metadata": {},
     "output_type": "display_data"
    }
   ],
   "source": [
    "plt.plot(ice_tfm_vs_nym_ng['ICE vs NYM'])\n",
    "plt.title('Data Group 0 (ICE_TFM_TFM versus NYM_NG_NG ×13.7261)') "
   ]
  },
  {
   "cell_type": "markdown",
   "id": "bd3dfe4a-e327-4fa8-a52d-ec54720d503d",
   "metadata": {},
   "source": [
    "From the graph of the spread prices movement, we can see that spreads expiring during 2021 have a stable pattern while in 2022 the movement starts to become volatile. For the last month in the data, we can see a large drawdown from the graph. "
   ]
  },
  {
   "cell_type": "code",
   "execution_count": 14,
   "id": "91dd8771-4b90-4578-abbb-5853dcd203b7",
   "metadata": {},
   "outputs": [
    {
     "data": {
      "text/html": [
       "<div>\n",
       "<style scoped>\n",
       "    .dataframe tbody tr th:only-of-type {\n",
       "        vertical-align: middle;\n",
       "    }\n",
       "\n",
       "    .dataframe tbody tr th {\n",
       "        vertical-align: top;\n",
       "    }\n",
       "\n",
       "    .dataframe thead th {\n",
       "        text-align: right;\n",
       "    }\n",
       "</style>\n",
       "<table border=\"1\" class=\"dataframe\">\n",
       "  <thead>\n",
       "    <tr style=\"text-align: right;\">\n",
       "      <th></th>\n",
       "      <th>Mean</th>\n",
       "      <th>Volatility</th>\n",
       "      <th>Sharpe Ratio</th>\n",
       "      <th>Max Drawdown</th>\n",
       "      <th>Min</th>\n",
       "      <th>25% Quantile</th>\n",
       "      <th>Median</th>\n",
       "      <th>75% Quantile</th>\n",
       "      <th>Max</th>\n",
       "      <th>Skewness</th>\n",
       "      <th>Kurtosis</th>\n",
       "    </tr>\n",
       "  </thead>\n",
       "  <tbody>\n",
       "    <tr>\n",
       "      <th>ICE vs NYM</th>\n",
       "      <td>-10.99</td>\n",
       "      <td>41.44</td>\n",
       "      <td>-0.27</td>\n",
       "      <td>-261.891462</td>\n",
       "      <td>-219.84</td>\n",
       "      <td>-27.48</td>\n",
       "      <td>9.61</td>\n",
       "      <td>17.14</td>\n",
       "      <td>42.05</td>\n",
       "      <td>-1.73</td>\n",
       "      <td>3.29</td>\n",
       "    </tr>\n",
       "  </tbody>\n",
       "</table>\n",
       "</div>"
      ],
      "text/plain": [
       "             Mean  Volatility  Sharpe Ratio  Max Drawdown     Min  \\\n",
       "ICE vs NYM -10.99       41.44         -0.27   -261.891462 -219.84   \n",
       "\n",
       "            25% Quantile  Median  75% Quantile    Max  Skewness  Kurtosis  \n",
       "ICE vs NYM        -27.48    9.61         17.14  42.05     -1.73      3.29  "
      ]
     },
     "execution_count": 14,
     "metadata": {},
     "output_type": "execute_result"
    }
   ],
   "source": [
    "summary1 = summary_stat(ice_tfm_vs_nym_ng[['ICE vs NYM']]) \n",
    "summary1"
   ]
  },
  {
   "cell_type": "markdown",
   "id": "78c93b17-55a9-49d1-bee8-b96cb7718a0c",
   "metadata": {},
   "source": [
    "From the mean and the volatility, we can deduce that this spread is not worth investing as it is too volatile and we cannot even short sell it to guarantee any profit. Also, the Sharpe Ratio validates this. \n",
    "\n",
    "The max drawdown indicates that we might lose 26 times the mean return which is so large and indicates the volatility is high. \n",
    "\n",
    "Lastly, both from the quantile values and the skewness, we can tell there is a big left tail and also validates the large tail risk. In addition, the kurtosis also indicates a sharp peak compared to normal distribution. "
   ]
  },
  {
   "cell_type": "code",
   "execution_count": 15,
   "id": "08bcf6f3-515c-4628-b8b2-c352c0aa4d0b",
   "metadata": {},
   "outputs": [
    {
     "data": {
      "text/html": [
       "<div>\n",
       "<style scoped>\n",
       "    .dataframe tbody tr th:only-of-type {\n",
       "        vertical-align: middle;\n",
       "    }\n",
       "\n",
       "    .dataframe tbody tr th {\n",
       "        vertical-align: top;\n",
       "    }\n",
       "\n",
       "    .dataframe thead th {\n",
       "        text-align: right;\n",
       "    }\n",
       "</style>\n",
       "<table border=\"1\" class=\"dataframe\">\n",
       "  <thead>\n",
       "    <tr style=\"text-align: right;\">\n",
       "      <th></th>\n",
       "      <th>Mean</th>\n",
       "      <th>Volatility</th>\n",
       "      <th>Sharpe Ratio</th>\n",
       "      <th>Max Drawdown</th>\n",
       "      <th>Min</th>\n",
       "      <th>25% Quantile</th>\n",
       "      <th>Median</th>\n",
       "      <th>75% Quantile</th>\n",
       "      <th>Max</th>\n",
       "      <th>Skewness</th>\n",
       "      <th>Kurtosis</th>\n",
       "    </tr>\n",
       "  </thead>\n",
       "  <tbody>\n",
       "    <tr>\n",
       "      <th>5-Day-Window</th>\n",
       "      <td>-0.74</td>\n",
       "      <td>10.08</td>\n",
       "      <td>-0.07</td>\n",
       "      <td>-93.585540</td>\n",
       "      <td>-44.01</td>\n",
       "      <td>-2.50</td>\n",
       "      <td>-0.21</td>\n",
       "      <td>1.92</td>\n",
       "      <td>52.34</td>\n",
       "      <td>-0.12</td>\n",
       "      <td>7.38</td>\n",
       "    </tr>\n",
       "    <tr>\n",
       "      <th>10-Day-Window</th>\n",
       "      <td>-1.83</td>\n",
       "      <td>15.21</td>\n",
       "      <td>-0.12</td>\n",
       "      <td>-124.286381</td>\n",
       "      <td>-76.79</td>\n",
       "      <td>-3.71</td>\n",
       "      <td>-0.30</td>\n",
       "      <td>2.10</td>\n",
       "      <td>47.50</td>\n",
       "      <td>-1.16</td>\n",
       "      <td>5.47</td>\n",
       "    </tr>\n",
       "    <tr>\n",
       "      <th>15-Day-Window</th>\n",
       "      <td>-2.76</td>\n",
       "      <td>18.38</td>\n",
       "      <td>-0.15</td>\n",
       "      <td>-142.039058</td>\n",
       "      <td>-95.87</td>\n",
       "      <td>-5.32</td>\n",
       "      <td>-0.22</td>\n",
       "      <td>3.69</td>\n",
       "      <td>46.17</td>\n",
       "      <td>-1.53</td>\n",
       "      <td>5.24</td>\n",
       "    </tr>\n",
       "    <tr>\n",
       "      <th>30-Day-Window</th>\n",
       "      <td>-5.00</td>\n",
       "      <td>24.74</td>\n",
       "      <td>-0.20</td>\n",
       "      <td>-172.629231</td>\n",
       "      <td>-120.66</td>\n",
       "      <td>-8.93</td>\n",
       "      <td>-0.69</td>\n",
       "      <td>7.33</td>\n",
       "      <td>51.97</td>\n",
       "      <td>-1.60</td>\n",
       "      <td>3.68</td>\n",
       "    </tr>\n",
       "  </tbody>\n",
       "</table>\n",
       "</div>"
      ],
      "text/plain": [
       "               Mean  Volatility  Sharpe Ratio  Max Drawdown     Min  \\\n",
       "5-Day-Window  -0.74       10.08         -0.07    -93.585540  -44.01   \n",
       "10-Day-Window -1.83       15.21         -0.12   -124.286381  -76.79   \n",
       "15-Day-Window -2.76       18.38         -0.15   -142.039058  -95.87   \n",
       "30-Day-Window -5.00       24.74         -0.20   -172.629231 -120.66   \n",
       "\n",
       "               25% Quantile  Median  75% Quantile    Max  Skewness  Kurtosis  \n",
       "5-Day-Window          -2.50   -0.21          1.92  52.34     -0.12      7.38  \n",
       "10-Day-Window         -3.71   -0.30          2.10  47.50     -1.16      5.47  \n",
       "15-Day-Window         -5.32   -0.22          3.69  46.17     -1.53      5.24  \n",
       "30-Day-Window         -8.93   -0.69          7.33  51.97     -1.60      3.68  "
      ]
     },
     "execution_count": 15,
     "metadata": {},
     "output_type": "execute_result"
    }
   ],
   "source": [
    "rolling_summary1 = rolling_stat(ice_tfm_vs_nym_ng[['ICE vs NYM']], 5).rename(index={'ICE vs NYM': '5-Day-Window'})\n",
    "for i in [10, 15, 30]: \n",
    "    new1 = rolling_stat(ice_tfm_vs_nym_ng[['ICE vs NYM']], i).rename(index={'ICE vs NYM': str(i) + '-Day-Window'})\n",
    "    rolling_summary1 = pd.concat([rolling_summary1, new1]) \n",
    "rolling_summary1"
   ]
  },
  {
   "cell_type": "markdown",
   "id": "640496f1-6f19-4183-b241-595f522a145f",
   "metadata": {},
   "source": [
    "As we can use similar concepts to analyze these statistics, it makes more sense to analyze these values across different rolling window(vertically). Seeing the stats vertically, we can see that with 5 days rolling window, the data behaves the best. As the rolling window becomes larger, the moving average will become smoother and it makes less effect on taking the difference between spread prices and spreading rolling average. Therefore, we can still conclude large volatility from this analysis. In specific, we will expect extreme increases and decreases. Lastly, the kurtosis also indicates a significant sharp peak. "
   ]
  },
  {
   "cell_type": "code",
   "execution_count": 16,
   "id": "81ac2bd9-e28b-4ab5-8cdb-643a3a82bd72",
   "metadata": {},
   "outputs": [
    {
     "data": {
      "text/html": [
       "<table class=\"simpletable\">\n",
       "<caption>AutoReg Model Results</caption>\n",
       "<tr>\n",
       "  <th>Dep. Variable:</th>    <td>ICE vs NYM</td>    <th>  No. Observations:  </th>    <td>450</td>   \n",
       "</tr>\n",
       "<tr>\n",
       "  <th>Model:</th>            <td>AutoReg(1)</td>    <th>  Log Likelihood     </th> <td>-1598.006</td>\n",
       "</tr>\n",
       "<tr>\n",
       "  <th>Method:</th>         <td>Conditional MLE</td> <th>  S.D. of innovations</th>   <td>8.500</td>  \n",
       "</tr>\n",
       "<tr>\n",
       "  <th>Date:</th>          <td>Thu, 12 Jan 2023</td> <th>  AIC                </th> <td>3202.011</td> \n",
       "</tr>\n",
       "<tr>\n",
       "  <th>Time:</th>              <td>13:09:39</td>     <th>  BIC                </th> <td>3214.332</td> \n",
       "</tr>\n",
       "<tr>\n",
       "  <th>Sample:</th>                <td>1</td>        <th>  HQIC               </th> <td>3206.868</td> \n",
       "</tr>\n",
       "<tr>\n",
       "  <th></th>                      <td>450</td>       <th>                     </th>     <td> </td>    \n",
       "</tr>\n",
       "</table>\n",
       "<table class=\"simpletable\">\n",
       "<tr>\n",
       "        <td></td>           <th>coef</th>     <th>std err</th>      <th>z</th>      <th>P>|z|</th>  <th>[0.025</th>    <th>0.975]</th>  \n",
       "</tr>\n",
       "<tr>\n",
       "  <th>const</th>         <td>   -0.4628</td> <td>    0.415</td> <td>   -1.116</td> <td> 0.264</td> <td>   -1.275</td> <td>    0.350</td>\n",
       "</tr>\n",
       "<tr>\n",
       "  <th>ICE vs NYM.L1</th> <td>    0.9852</td> <td>    0.010</td> <td>  101.039</td> <td> 0.000</td> <td>    0.966</td> <td>    1.004</td>\n",
       "</tr>\n",
       "</table>\n",
       "<table class=\"simpletable\">\n",
       "<caption>Roots</caption>\n",
       "<tr>\n",
       "    <td></td>   <th>            Real</th>  <th>         Imaginary</th> <th>         Modulus</th>  <th>        Frequency</th>\n",
       "</tr>\n",
       "<tr>\n",
       "  <th>AR.1</th> <td>           1.0150</td> <td>          +0.0000j</td> <td>           1.0150</td> <td>           0.0000</td>\n",
       "</tr>\n",
       "</table>"
      ],
      "text/plain": [
       "<class 'statsmodels.iolib.summary.Summary'>\n",
       "\"\"\"\n",
       "                            AutoReg Model Results                             \n",
       "==============================================================================\n",
       "Dep. Variable:             ICE vs NYM   No. Observations:                  450\n",
       "Model:                     AutoReg(1)   Log Likelihood               -1598.006\n",
       "Method:               Conditional MLE   S.D. of innovations              8.500\n",
       "Date:                Thu, 12 Jan 2023   AIC                           3202.011\n",
       "Time:                        13:09:39   BIC                           3214.332\n",
       "Sample:                             1   HQIC                          3206.868\n",
       "                                  450                                         \n",
       "=================================================================================\n",
       "                    coef    std err          z      P>|z|      [0.025      0.975]\n",
       "---------------------------------------------------------------------------------\n",
       "const            -0.4628      0.415     -1.116      0.264      -1.275       0.350\n",
       "ICE vs NYM.L1     0.9852      0.010    101.039      0.000       0.966       1.004\n",
       "                                    Roots                                    \n",
       "=============================================================================\n",
       "                  Real          Imaginary           Modulus         Frequency\n",
       "-----------------------------------------------------------------------------\n",
       "AR.1            1.0150           +0.0000j            1.0150            0.0000\n",
       "-----------------------------------------------------------------------------\n",
       "\"\"\""
      ]
     },
     "execution_count": 16,
     "metadata": {},
     "output_type": "execute_result"
    }
   ],
   "source": [
    "ar_model1 = AutoReg(ice_tfm_vs_nym_ng[['ICE vs NYM']], lags=1).fit()\n",
    "ar_model1.summary()"
   ]
  },
  {
   "cell_type": "markdown",
   "id": "000a96f2-eb45-4460-b452-06ad374aec62",
   "metadata": {},
   "source": [
    "The data show very strong autocorrelations of lag 1 as the beta is very significant and AIC & BIC are large. \n",
    "\n",
    "Time-Series model such as ARIMA(p, d, q) is suggested to be used for any forcasting. "
   ]
  },
  {
   "cell_type": "markdown",
   "id": "ba1ec3a5-fa15-4c78-a981-e8d0b320a697",
   "metadata": {},
   "source": [
    "#### Data Group 8 (NYM_RB_RB versus ICE_G_G × 0.0033)"
   ]
  },
  {
   "cell_type": "code",
   "execution_count": 17,
   "id": "31321f7b-b837-4c5b-991c-4eba4ef5bec6",
   "metadata": {},
   "outputs": [
    {
     "data": {
      "text/plain": [
       "Text(0.5, 1.0, 'Data Group 8 (NYM_RB_RB versus ICE_G_G × 0.0033)')"
      ]
     },
     "execution_count": 17,
     "metadata": {},
     "output_type": "execute_result"
    },
    {
     "data": {
      "image/png": "[encoded data removed]",
      "text/plain": [
       "<Figure size 640x480 with 1 Axes>"
      ]
     },
     "metadata": {},
     "output_type": "display_data"
    }
   ],
   "source": [
    "plt.plot(nym_rb_vs_ice_g[['NYM vs ICE']])\n",
    "plt.title('Data Group 8 (NYM_RB_RB versus ICE_G_G × 0.0033)') "
   ]
  },
  {
   "cell_type": "markdown",
   "id": "5903a1b6-b250-4c32-8fb6-ec583e3d8a79",
   "metadata": {},
   "source": [
    "Similar to Data Group 0, we can see that spreads expiring during 2021 have a relative stable pattern. During 2021-04 to 2021-07, we observe a valley. Starting from 2022, the movement starts to become volatile. From 2022-05, we can see a large jump and then move down sharply. This might creates the max drawdown. After that, the prices go up rapidly. "
   ]
  },
  {
   "cell_type": "code",
   "execution_count": 18,
   "id": "39dfb52a-b5fa-4e80-a369-11568f7e8c9e",
   "metadata": {},
   "outputs": [
    {
     "data": {
      "text/html": [
       "<div>\n",
       "<style scoped>\n",
       "    .dataframe tbody tr th:only-of-type {\n",
       "        vertical-align: middle;\n",
       "    }\n",
       "\n",
       "    .dataframe tbody tr th {\n",
       "        vertical-align: top;\n",
       "    }\n",
       "\n",
       "    .dataframe thead th {\n",
       "        text-align: right;\n",
       "    }\n",
       "</style>\n",
       "<table border=\"1\" class=\"dataframe\">\n",
       "  <thead>\n",
       "    <tr style=\"text-align: right;\">\n",
       "      <th></th>\n",
       "      <th>Mean</th>\n",
       "      <th>Volatility</th>\n",
       "      <th>Sharpe Ratio</th>\n",
       "      <th>Max Drawdown</th>\n",
       "      <th>Min</th>\n",
       "      <th>25% Quantile</th>\n",
       "      <th>Median</th>\n",
       "      <th>75% Quantile</th>\n",
       "      <th>Max</th>\n",
       "      <th>Skewness</th>\n",
       "      <th>Kurtosis</th>\n",
       "    </tr>\n",
       "  </thead>\n",
       "  <tbody>\n",
       "    <tr>\n",
       "      <th>NYM vs ICE</th>\n",
       "      <td>0.01</td>\n",
       "      <td>0.27</td>\n",
       "      <td>0.04</td>\n",
       "      <td>-0.7925</td>\n",
       "      <td>-0.36</td>\n",
       "      <td>-0.19</td>\n",
       "      <td>-0.02</td>\n",
       "      <td>0.06</td>\n",
       "      <td>1.04</td>\n",
       "      <td>1.55</td>\n",
       "      <td>2.71</td>\n",
       "    </tr>\n",
       "  </tbody>\n",
       "</table>\n",
       "</div>"
      ],
      "text/plain": [
       "            Mean  Volatility  Sharpe Ratio  Max Drawdown   Min  25% Quantile  \\\n",
       "NYM vs ICE  0.01        0.27          0.04       -0.7925 -0.36         -0.19   \n",
       "\n",
       "            Median  75% Quantile   Max  Skewness  Kurtosis  \n",
       "NYM vs ICE   -0.02          0.06  1.04      1.55      2.71  "
      ]
     },
     "execution_count": 18,
     "metadata": {},
     "output_type": "execute_result"
    }
   ],
   "source": [
    "summary2 = summary_stat(nym_rb_vs_ice_g[['NYM vs ICE']])\n",
    "summary2"
   ]
  },
  {
   "cell_type": "markdown",
   "id": "c315efa9-cd64-4dbc-929a-59fbbe4d33fa",
   "metadata": {},
   "source": [
    "From the mean and the volatility, we can deduce this spread is not worth investing as it is too volatile. The Sharpe Ratio is so small and validates this. \n",
    "\n",
    "The max drawdown indicates that we might lose approxiamately 80 times the mean return which is so large and indicates the volatility is high. \n",
    "\n",
    "Lastly, both from the quantile values and the skewness, we can tell there is a right tail and also validates the tail risk. In addition, the kurtosis also indicates a sharp peak compared to normal distribution as 2.71 is a large value in the kurtosis scale. "
   ]
  },
  {
   "cell_type": "code",
   "execution_count": 19,
   "id": "460a2f61-8e05-4e5e-868d-083f655dc376",
   "metadata": {},
   "outputs": [
    {
     "data": {
      "text/html": [
       "<div>\n",
       "<style scoped>\n",
       "    .dataframe tbody tr th:only-of-type {\n",
       "        vertical-align: middle;\n",
       "    }\n",
       "\n",
       "    .dataframe tbody tr th {\n",
       "        vertical-align: top;\n",
       "    }\n",
       "\n",
       "    .dataframe thead th {\n",
       "        text-align: right;\n",
       "    }\n",
       "</style>\n",
       "<table border=\"1\" class=\"dataframe\">\n",
       "  <thead>\n",
       "    <tr style=\"text-align: right;\">\n",
       "      <th></th>\n",
       "      <th>Mean</th>\n",
       "      <th>Volatility</th>\n",
       "      <th>Sharpe Ratio</th>\n",
       "      <th>Max Drawdown</th>\n",
       "      <th>Min</th>\n",
       "      <th>25% Quantile</th>\n",
       "      <th>Median</th>\n",
       "      <th>75% Quantile</th>\n",
       "      <th>Max</th>\n",
       "      <th>Skewness</th>\n",
       "      <th>Kurtosis</th>\n",
       "    </tr>\n",
       "  </thead>\n",
       "  <tbody>\n",
       "    <tr>\n",
       "      <th>5-Day-Window</th>\n",
       "      <td>0.00</td>\n",
       "      <td>0.06</td>\n",
       "      <td>0.00</td>\n",
       "      <td>-0.533005</td>\n",
       "      <td>-0.23</td>\n",
       "      <td>-0.02</td>\n",
       "      <td>0.00</td>\n",
       "      <td>0.02</td>\n",
       "      <td>0.30</td>\n",
       "      <td>0.65</td>\n",
       "      <td>5.97</td>\n",
       "    </tr>\n",
       "    <tr>\n",
       "      <th>10-Day-Window</th>\n",
       "      <td>0.01</td>\n",
       "      <td>0.08</td>\n",
       "      <td>0.12</td>\n",
       "      <td>-0.722927</td>\n",
       "      <td>-0.35</td>\n",
       "      <td>-0.03</td>\n",
       "      <td>0.00</td>\n",
       "      <td>0.03</td>\n",
       "      <td>0.38</td>\n",
       "      <td>0.57</td>\n",
       "      <td>5.45</td>\n",
       "    </tr>\n",
       "    <tr>\n",
       "      <th>15-Day-Window</th>\n",
       "      <td>0.01</td>\n",
       "      <td>0.10</td>\n",
       "      <td>0.10</td>\n",
       "      <td>-0.791403</td>\n",
       "      <td>-0.37</td>\n",
       "      <td>-0.03</td>\n",
       "      <td>0.00</td>\n",
       "      <td>0.05</td>\n",
       "      <td>0.42</td>\n",
       "      <td>0.54</td>\n",
       "      <td>3.76</td>\n",
       "    </tr>\n",
       "    <tr>\n",
       "      <th>30-Day-Window</th>\n",
       "      <td>0.03</td>\n",
       "      <td>0.13</td>\n",
       "      <td>0.23</td>\n",
       "      <td>-0.824770</td>\n",
       "      <td>-0.32</td>\n",
       "      <td>-0.04</td>\n",
       "      <td>0.01</td>\n",
       "      <td>0.08</td>\n",
       "      <td>0.50</td>\n",
       "      <td>0.83</td>\n",
       "      <td>1.95</td>\n",
       "    </tr>\n",
       "  </tbody>\n",
       "</table>\n",
       "</div>"
      ],
      "text/plain": [
       "               Mean  Volatility  Sharpe Ratio  Max Drawdown   Min  \\\n",
       "5-Day-Window   0.00        0.06          0.00     -0.533005 -0.23   \n",
       "10-Day-Window  0.01        0.08          0.12     -0.722927 -0.35   \n",
       "15-Day-Window  0.01        0.10          0.10     -0.791403 -0.37   \n",
       "30-Day-Window  0.03        0.13          0.23     -0.824770 -0.32   \n",
       "\n",
       "               25% Quantile  Median  75% Quantile   Max  Skewness  Kurtosis  \n",
       "5-Day-Window          -0.02    0.00          0.02  0.30      0.65      5.97  \n",
       "10-Day-Window         -0.03    0.00          0.03  0.38      0.57      5.45  \n",
       "15-Day-Window         -0.03    0.00          0.05  0.42      0.54      3.76  \n",
       "30-Day-Window         -0.04    0.01          0.08  0.50      0.83      1.95  "
      ]
     },
     "execution_count": 19,
     "metadata": {},
     "output_type": "execute_result"
    }
   ],
   "source": [
    "rolling_summary2 = rolling_stat(nym_rb_vs_ice_g[['NYM vs ICE']], 5).rename(index={'NYM vs ICE': '5-Day-Window'})\n",
    "for i in [10, 15, 30]: \n",
    "    new2 = rolling_stat(nym_rb_vs_ice_g[['NYM vs ICE']], i).rename(index={'NYM vs ICE': str(i) + '-Day-Window'})\n",
    "    rolling_summary2 = pd.concat([rolling_summary2, new2]) \n",
    "rolling_summary2"
   ]
  },
  {
   "cell_type": "markdown",
   "id": "710b0ae3-a646-4b1f-b653-a7d8069dddc3",
   "metadata": {},
   "source": [
    "Similar to the analysis of Data Group 0, we can see the rolling window makes the data behave better. Differently, the data behaves better as the rolling window size increases. This indicates there are more small volatilities rather than extreme increases or decreases in the data. This is just comparing the Group 0. As we can see from the graph, the data is still increasing fastly. "
   ]
  },
  {
   "cell_type": "code",
   "execution_count": 20,
   "id": "cca2322e-382b-402e-878e-b1258e29ed67",
   "metadata": {},
   "outputs": [
    {
     "data": {
      "text/html": [
       "<table class=\"simpletable\">\n",
       "<caption>AutoReg Model Results</caption>\n",
       "<tr>\n",
       "  <th>Dep. Variable:</th>    <td>NYM vs ICE</td>    <th>  No. Observations:  </th>    <td>450</td>   \n",
       "</tr>\n",
       "<tr>\n",
       "  <th>Model:</th>            <td>AutoReg(1)</td>    <th>  Log Likelihood     </th>  <td>632.029</td> \n",
       "</tr>\n",
       "<tr>\n",
       "  <th>Method:</th>         <td>Conditional MLE</td> <th>  S.D. of innovations</th>   <td>0.059</td>  \n",
       "</tr>\n",
       "<tr>\n",
       "  <th>Date:</th>          <td>Thu, 12 Jan 2023</td> <th>  AIC                </th> <td>-1258.058</td>\n",
       "</tr>\n",
       "<tr>\n",
       "  <th>Time:</th>              <td>13:09:39</td>     <th>  BIC                </th> <td>-1245.737</td>\n",
       "</tr>\n",
       "<tr>\n",
       "  <th>Sample:</th>                <td>1</td>        <th>  HQIC               </th> <td>-1253.201</td>\n",
       "</tr>\n",
       "<tr>\n",
       "  <th></th>                      <td>450</td>       <th>                     </th>     <td> </td>    \n",
       "</tr>\n",
       "</table>\n",
       "<table class=\"simpletable\">\n",
       "<tr>\n",
       "        <td></td>           <th>coef</th>     <th>std err</th>      <th>z</th>      <th>P>|z|</th>  <th>[0.025</th>    <th>0.975]</th>  \n",
       "</tr>\n",
       "<tr>\n",
       "  <th>const</th>         <td>    0.0022</td> <td>    0.003</td> <td>    0.772</td> <td> 0.440</td> <td>   -0.003</td> <td>    0.008</td>\n",
       "</tr>\n",
       "<tr>\n",
       "  <th>NYM vs ICE.L1</th> <td>    0.9888</td> <td>    0.011</td> <td>   92.670</td> <td> 0.000</td> <td>    0.968</td> <td>    1.010</td>\n",
       "</tr>\n",
       "</table>\n",
       "<table class=\"simpletable\">\n",
       "<caption>Roots</caption>\n",
       "<tr>\n",
       "    <td></td>   <th>            Real</th>  <th>         Imaginary</th> <th>         Modulus</th>  <th>        Frequency</th>\n",
       "</tr>\n",
       "<tr>\n",
       "  <th>AR.1</th> <td>           1.0113</td> <td>          +0.0000j</td> <td>           1.0113</td> <td>           0.0000</td>\n",
       "</tr>\n",
       "</table>"
      ],
      "text/plain": [
       "<class 'statsmodels.iolib.summary.Summary'>\n",
       "\"\"\"\n",
       "                            AutoReg Model Results                             \n",
       "==============================================================================\n",
       "Dep. Variable:             NYM vs ICE   No. Observations:                  450\n",
       "Model:                     AutoReg(1)   Log Likelihood                 632.029\n",
       "Method:               Conditional MLE   S.D. of innovations              0.059\n",
       "Date:                Thu, 12 Jan 2023   AIC                          -1258.058\n",
       "Time:                        13:09:39   BIC                          -1245.737\n",
       "Sample:                             1   HQIC                         -1253.201\n",
       "                                  450                                         \n",
       "=================================================================================\n",
       "                    coef    std err          z      P>|z|      [0.025      0.975]\n",
       "---------------------------------------------------------------------------------\n",
       "const             0.0022      0.003      0.772      0.440      -0.003       0.008\n",
       "NYM vs ICE.L1     0.9888      0.011     92.670      0.000       0.968       1.010\n",
       "                                    Roots                                    \n",
       "=============================================================================\n",
       "                  Real          Imaginary           Modulus         Frequency\n",
       "-----------------------------------------------------------------------------\n",
       "AR.1            1.0113           +0.0000j            1.0113            0.0000\n",
       "-----------------------------------------------------------------------------\n",
       "\"\"\""
      ]
     },
     "execution_count": 20,
     "metadata": {},
     "output_type": "execute_result"
    }
   ],
   "source": [
    "ar_model2 = AutoReg(nym_rb_vs_ice_g[['NYM vs ICE']], lags=1).fit()\n",
    "ar_model2.summary()"
   ]
  },
  {
   "cell_type": "markdown",
   "id": "8d975596-761c-4a77-93c8-c8f7386384ab",
   "metadata": {},
   "source": [
    "The data show very strong autocorrelations of lag 1 as the beta is very significant and AIC & BIC are large. \n",
    "\n",
    "Time-Series model such as ARIMA(p, d, q) is suggested to be used for any forcasting. "
   ]
  },
  {
   "cell_type": "markdown",
   "id": "83eef572-f55f-4aa0-8fcd-4a831d5b72b0",
   "metadata": {},
   "source": [
    "#### Correlation"
   ]
  },
  {
   "cell_type": "code",
   "execution_count": 21,
   "id": "0e9fe51b-9378-4577-9df2-0b722f974932",
   "metadata": {},
   "outputs": [
    {
     "data": {
      "text/html": [
       "<div>\n",
       "<style scoped>\n",
       "    .dataframe tbody tr th:only-of-type {\n",
       "        vertical-align: middle;\n",
       "    }\n",
       "\n",
       "    .dataframe tbody tr th {\n",
       "        vertical-align: top;\n",
       "    }\n",
       "\n",
       "    .dataframe thead th {\n",
       "        text-align: right;\n",
       "    }\n",
       "</style>\n",
       "<table border=\"1\" class=\"dataframe\">\n",
       "  <thead>\n",
       "    <tr style=\"text-align: right;\">\n",
       "      <th></th>\n",
       "      <th>ICE vs NYM</th>\n",
       "      <th>NYM vs ICE</th>\n",
       "    </tr>\n",
       "  </thead>\n",
       "  <tbody>\n",
       "    <tr>\n",
       "      <th>ICE vs NYM</th>\n",
       "      <td>1.00</td>\n",
       "      <td>-0.69</td>\n",
       "    </tr>\n",
       "    <tr>\n",
       "      <th>NYM vs ICE</th>\n",
       "      <td>-0.69</td>\n",
       "      <td>1.00</td>\n",
       "    </tr>\n",
       "  </tbody>\n",
       "</table>\n",
       "</div>"
      ],
      "text/plain": [
       "            ICE vs NYM  NYM vs ICE\n",
       "ICE vs NYM        1.00       -0.69\n",
       "NYM vs ICE       -0.69        1.00"
      ]
     },
     "execution_count": 21,
     "metadata": {},
     "output_type": "execute_result"
    }
   ],
   "source": [
    "data_corr = ice_tfm_vs_nym_ng[['ICE vs NYM']].join(nym_rb_vs_ice_g[['NYM vs ICE']]) \n",
    "corr = data_corr.corr().round(2)\n",
    "corr"
   ]
  },
  {
   "cell_type": "markdown",
   "id": "96c44000-dab0-4379-94c3-ae1e361ee15f",
   "metadata": {},
   "source": [
    "The data show a strong negative correlation. This indicates that there might be diversification benefits if we invest in these two spreads in long-short ways with certain calculated weights. "
   ]
  },
  {
   "cell_type": "markdown",
   "id": "4e21f549-2e38-4f87-aea3-8ac130fc25ac",
   "metadata": {},
   "source": [
    "## Conclusion"
   ]
  },
  {
   "cell_type": "markdown",
   "id": "b22007de-d9eb-478a-9bca-ac9bd5edb987",
   "metadata": {},
   "source": [
    "Two data sets have significant differences and high volatilities in 2022. We might deduce this is the recession after the Covid attack or other issues that worth investigating. For example, lots of large tech companies start layoff recently, we might be experiening a period of downside in the business cycle and people are lack of confidence of the market recently. "
   ]
  }
 ],
 "metadata": {
  "kernelspec": {
   "display_name": "Python 3 (ipykernel)",
   "language": "python",
   "name": "python3"
  },
  "language_info": {
   "codemirror_mode": {
    "name": "ipython",
    "version": 3
   },
   "file_extension": ".py",
   "mimetype": "text/x-python",
   "name": "python",
   "nbconvert_exporter": "python",
   "pygments_lexer": "ipython3",
   "version": "3.10.8"
  }
 },
 "nbformat": 4,
 "nbformat_minor": 5
}
